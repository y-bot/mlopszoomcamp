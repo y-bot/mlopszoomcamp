{
 "cells": [
  {
   "cell_type": "code",
   "execution_count": 1,
   "id": "6bad3048",
   "metadata": {},
   "outputs": [],
   "source": [
    "import os\n",
    "import pickle\n",
    "\n",
    "import matplotlib.pyplot as plt\n",
    "import pandas as pd\n",
    "import seaborn as sns\n",
    "\n",
    "from sklearn.feature_extraction import DictVectorizer\n",
    "from sklearn.linear_model import LinearRegression\n",
    "from sklearn.linear_model import Lasso\n",
    "from sklearn.linear_model import Ridge\n",
    "from sklearn.ensemble import RandomForestRegressor\n",
    "from sklearn.metrics import mean_squared_error"
   ]
  },
  {
   "cell_type": "code",
   "execution_count": 2,
   "id": "748c8314",
   "metadata": {},
   "outputs": [
    {
     "name": "stderr",
     "output_type": "stream",
     "text": [
      "2023/05/31 20:16:12 INFO mlflow.tracking.fluent: Experiment with name 'nyc-taxi-experiment' does not exist. Creating a new experiment.\n"
     ]
    }
   ],
   "source": [
    "import mlflow\n",
    "from mlflow.tracking import MlflowClient\n",
    "from mlflow.entities import ViewType\n",
    "\n",
    "mlflow.set_tracking_uri(\"sqlite:///mlflow.db\")\n",
    "mlflow.set_experiment(\"nyc-taxi-experiment\")\n",
    "\n",
    "client = MlflowClient(tracking_uri = 'sqlite:///mlflow.db')"
   ]
  },
  {
   "cell_type": "code",
   "execution_count": 3,
   "id": "56e37e59",
   "metadata": {},
   "outputs": [
    {
     "name": "stdout",
     "output_type": "stream",
     "text": [
      "Question 1:\n",
      "mlflow, version 2.3.2\n"
     ]
    }
   ],
   "source": [
    "# 1\n",
    "print(\"Question 1:\")\n",
    "!mlflow --version"
   ]
  },
  {
   "cell_type": "code",
   "execution_count": 4,
   "id": "e5e4acb0",
   "metadata": {},
   "outputs": [
    {
     "name": "stdout",
     "output_type": "stream",
     "text": [
      "Question 2: 153660\n"
     ]
    }
   ],
   "source": [
    "# 2\n",
    "!python3 preprocess_data.py --raw_data_path ../data/ --dest_path ../output/\n",
    "print(\"Question 2: {}\".format(os.path.getsize('../output/dv.pkl')))"
   ]
  },
  {
   "cell_type": "code",
   "execution_count": 5,
   "id": "324ddc8f",
   "metadata": {},
   "outputs": [
    {
     "name": "stdout",
     "output_type": "stream",
     "text": [
      "2023/05/31 20:16:18 INFO mlflow.tracking.fluent: Autologging successfully enabled for sklearn.\n",
      "2023/05/31 20:16:29 WARNING mlflow.utils.autologging_utils: MLflow autologging encountered a warning: \"/hdd2/Study/DTC/mlops-zoomcamp/.venv/lib/python3.8/site-packages/_distutils_hack/__init__.py:33: UserWarning: Setuptools is replacing distutils.\"\n",
      "Question 3: 10\n"
     ]
    }
   ],
   "source": [
    "# 3\n",
    "!python3 train.py --data_path ../output/\n",
    "\n",
    "experiment = client.get_experiment_by_name('nyc-taxi-experiment')\n",
    "run = client.search_runs(\n",
    "    experiment_ids=experiment.experiment_id,\n",
    "    run_view_type=ViewType.ACTIVE_ONLY\n",
    ")[0]\n",
    "print(\"Question 3: {}\".format(run.data.params['max_depth']))"
   ]
  },
  {
   "cell_type": "code",
   "execution_count": 6,
   "id": "558c3526",
   "metadata": {},
   "outputs": [
    {
     "name": "stdout",
     "output_type": "stream",
     "text": [
      "2023/05/31 20:16:33 INFO mlflow.tracking.fluent: Experiment with name 'random-forest-hyperopt' does not exist. Creating a new experiment.\n",
      "\u001b[32m[I 2023-05-31 20:16:33,163]\u001b[0m A new study created in memory with name: no-name-1babc9af-2a0e-4c21-88c0-49aec0cca758\u001b[0m\n",
      "\u001b[32m[I 2023-05-31 20:16:35,563]\u001b[0m Trial 0 finished with value: 2.451379690825458 and parameters: {'n_estimators': 25, 'max_depth': 20, 'min_samples_split': 8, 'min_samples_leaf': 3}. Best is trial 0 with value: 2.451379690825458.\u001b[0m\n",
      "\u001b[32m[I 2023-05-31 20:16:36,341]\u001b[0m Trial 1 finished with value: 2.4667366020368333 and parameters: {'n_estimators': 16, 'max_depth': 4, 'min_samples_split': 2, 'min_samples_leaf': 4}. Best is trial 0 with value: 2.451379690825458.\u001b[0m\n",
      "\u001b[32m[I 2023-05-31 20:16:38,541]\u001b[0m Trial 2 finished with value: 2.449827329704216 and parameters: {'n_estimators': 34, 'max_depth': 15, 'min_samples_split': 2, 'min_samples_leaf': 4}. Best is trial 2 with value: 2.449827329704216.\u001b[0m\n",
      "\u001b[32m[I 2023-05-31 20:16:39,665]\u001b[0m Trial 3 finished with value: 2.460983516558473 and parameters: {'n_estimators': 44, 'max_depth': 5, 'min_samples_split': 3, 'min_samples_leaf': 1}. Best is trial 2 with value: 2.449827329704216.\u001b[0m\n",
      "\u001b[32m[I 2023-05-31 20:16:40,954]\u001b[0m Trial 4 finished with value: 2.453877262701052 and parameters: {'n_estimators': 22, 'max_depth': 11, 'min_samples_split': 5, 'min_samples_leaf': 2}. Best is trial 2 with value: 2.449827329704216.\u001b[0m\n",
      "\u001b[32m[I 2023-05-31 20:16:41,919]\u001b[0m Trial 5 finished with value: 2.4720122094960733 and parameters: {'n_estimators': 35, 'max_depth': 3, 'min_samples_split': 4, 'min_samples_leaf': 2}. Best is trial 2 with value: 2.449827329704216.\u001b[0m\n",
      "\u001b[32m[I 2023-05-31 20:16:43,952]\u001b[0m Trial 6 finished with value: 2.4516421799356767 and parameters: {'n_estimators': 28, 'max_depth': 16, 'min_samples_split': 3, 'min_samples_leaf': 3}. Best is trial 2 with value: 2.449827329704216.\u001b[0m\n",
      "\u001b[32m[I 2023-05-31 20:16:44,638]\u001b[0m Trial 7 finished with value: 2.5374040268274087 and parameters: {'n_estimators': 34, 'max_depth': 1, 'min_samples_split': 7, 'min_samples_leaf': 1}. Best is trial 2 with value: 2.449827329704216.\u001b[0m\n",
      "\u001b[32m[I 2023-05-31 20:16:45,953]\u001b[0m Trial 8 finished with value: 2.455971238567075 and parameters: {'n_estimators': 12, 'max_depth': 19, 'min_samples_split': 10, 'min_samples_leaf': 4}. Best is trial 2 with value: 2.449827329704216.\u001b[0m\n",
      "\u001b[32m[I 2023-05-31 20:16:46,786]\u001b[0m Trial 9 finished with value: 2.486106021576535 and parameters: {'n_estimators': 22, 'max_depth': 2, 'min_samples_split': 8, 'min_samples_leaf': 2}. Best is trial 2 with value: 2.449827329704216.\u001b[0m\n",
      "Question 4: 2.449827329704216\n"
     ]
    }
   ],
   "source": [
    "# 4\n",
    "!python3 ./hpo.py\n",
    "\n",
    "experiment = client.get_experiment_by_name('random-forest-hyperopt')\n",
    "best_run = client.search_runs(\n",
    "    experiment_ids=experiment.experiment_id,\n",
    "    run_view_type=ViewType.ACTIVE_ONLY,\n",
    "    max_results=1,\n",
    "    order_by=[\"metrics.RMSE ASC\"]\n",
    ")[0]\n",
    "print(\"Question 4: {}\".format(best_run.data.metrics['RMSE']))"
   ]
  },
  {
   "cell_type": "code",
   "execution_count": 7,
   "id": "3b80c29a",
   "metadata": {},
   "outputs": [
    {
     "name": "stdout",
     "output_type": "stream",
     "text": [
      "2023/05/31 20:16:48 INFO mlflow.tracking.fluent: Experiment with name 'random-forest-best-models' does not exist. Creating a new experiment.\n",
      "2023/05/31 20:16:54 WARNING mlflow.utils.autologging_utils: MLflow autologging encountered a warning: \"/hdd2/Study/DTC/mlops-zoomcamp/.venv/lib/python3.8/site-packages/_distutils_hack/__init__.py:33: UserWarning: Setuptools is replacing distutils.\"\n",
      "Successfully registered model 'nyc-taxi-regressor'.\n",
      "2023/05/31 20:17:10 INFO mlflow.tracking._model_registry.client: Waiting up to 300 seconds for model version to finish creation. Model name: nyc-taxi-regressor, version 1\n",
      "Created version '1' of model 'nyc-taxi-regressor'.\n",
      "Question 5: 2.2854691906481364\n"
     ]
    }
   ],
   "source": [
    "# 5\n",
    "!python3 ./register_model.py\n",
    "\n",
    "experiment = client.get_experiment_by_name('random-forest-best-models')\n",
    "best_run = client.search_runs(\n",
    "    experiment_ids=experiment.experiment_id,\n",
    "    run_view_type=ViewType.ACTIVE_ONLY,\n",
    "    max_results=1,\n",
    "    order_by=[\"metrics.test_rmse ASC\"]\n",
    ")[0]\n",
    "print(\"Question 5: {}\".format(best_run.data.metrics['test_rmse']))"
   ]
  }
 ],
 "metadata": {
  "kernelspec": {
   "display_name": "Python 3 (ipykernel)",
   "language": "python",
   "name": "python3"
  },
  "language_info": {
   "codemirror_mode": {
    "name": "ipython",
    "version": 3
   },
   "file_extension": ".py",
   "mimetype": "text/x-python",
   "name": "python",
   "nbconvert_exporter": "python",
   "pygments_lexer": "ipython3",
   "version": "3.8.16"
  }
 },
 "nbformat": 4,
 "nbformat_minor": 5
}
